{
 "cells": [
  {
   "cell_type": "code",
   "execution_count": 2,
   "id": "lined-division",
   "metadata": {
    "scrolled": true
   },
   "outputs": [
    {
     "name": "stdout",
     "output_type": "stream",
     "text": [
      "3.8.7\n"
     ]
    }
   ],
   "source": [
    "from platform import python_version\n",
    "print(python_version())"
   ]
  },
  {
   "cell_type": "code",
   "execution_count": 3,
   "id": "furnished-colorado",
   "metadata": {},
   "outputs": [],
   "source": [
    "#https://crime-data-explorer.app.cloud.gov/explorer/state/georgia/crime"
   ]
  },
  {
   "cell_type": "code",
   "execution_count": 4,
   "id": "renewable-privacy",
   "metadata": {},
   "outputs": [],
   "source": [
    "import pandas as pd\n",
    "import numpy as np, sys, time, pdb, matplotlib.pyplot as plt\n",
    "from pymongo import MongoClient"
   ]
  },
  {
   "cell_type": "code",
   "execution_count": 40,
   "id": "ideal-aruba",
   "metadata": {},
   "outputs": [],
   "source": [
    "pd.set_option('display.max_rows', 100)# None"
   ]
  },
  {
   "cell_type": "code",
   "execution_count": 41,
   "id": "moderate-monte",
   "metadata": {},
   "outputs": [],
   "source": [
    "data_2020 = pd.read_csv('./flask/static/data/COBRA-2020.csv')\n",
    "data_2021 = pd.read_csv('./flask/static/data/COBRA-2021.csv')\n",
    "data_2009_2019 = pd.read_csv('./flask/static/data/COBRA-2009-2019.csv', low_memory=False)"
   ]
  },
  {
   "cell_type": "code",
   "execution_count": null,
   "id": "efficient-christian",
   "metadata": {},
   "outputs": [],
   "source": [
    "data_2009_2019.describe()"
   ]
  },
  {
   "cell_type": "code",
   "execution_count": null,
   "id": "moderate-overhead",
   "metadata": {},
   "outputs": [],
   "source": [
    "data_2020_list = data_2020.columns.values.tolist()\n",
    "data_2021_list = data_2021.columns.values.tolist()\n",
    "data_2009_2019_list = data_2009_2019.columns.values.tolist()"
   ]
  },
  {
   "cell_type": "code",
   "execution_count": null,
   "id": "tracked-confirmation",
   "metadata": {
    "scrolled": true
   },
   "outputs": [],
   "source": [
    "print(len(data_2020_list))\n",
    "data_2020.head(1)"
   ]
  },
  {
   "cell_type": "code",
   "execution_count": null,
   "id": "educational-calendar",
   "metadata": {
    "scrolled": true
   },
   "outputs": [],
   "source": [
    "print(len(data_2009_2019_list))\n",
    "data_2009_2019.tail(10)"
   ]
  },
  {
   "cell_type": "code",
   "execution_count": null,
   "id": "renewable-alexander",
   "metadata": {
    "scrolled": true
   },
   "outputs": [],
   "source": [
    "#Since the 2009-2019 dataset is the largest, everything will try and have the same columns as that dataset\n",
    "data_2020.rename(columns = {\n",
    " 'offense_id' : 'Report Number',\n",
    " 'rpt_date' : 'Report Date',\n",
    " 'occur_date' : 'Occur Date',\n",
    " 'occur_time' : 'Occur Time',\n",
    " 'poss_date' : 'Possible Date',\n",
    " 'poss_time' : 'Possible Time',\n",
    " 'beat' : 'Beat',\n",
    " 'apt_office_prefix' : 'Apartment Office Prefix',\n",
    " 'apt_office_num' : 'Apartment Number',\n",
    " 'location' : 'Location',\n",
    " #'MinOfucr' : ,\n",
    " #'dispo_code' : ,\n",
    " 'Shift' : 'Shift Occurence',\n",
    " 'loc_type' : 'Location Type',\n",
    " 'UC2_Literal': 'UCR Literal',\n",
    " 'ibr_code' : 'IBR Code',\n",
    " 'neighborhood' : 'Neighborhood',\n",
    " 'npu' : 'NPU',\n",
    " 'long' : 'Longitude',\n",
    " 'lat' : 'Latitude'\n",
    "}, inplace = True)\n",
    "#Drop columns that do not seem to show up in 2009-2019 dataset\n",
    "data_2020 = data_2020.drop(columns=['MinOfucr','dispo_code'])\n",
    "data_2020.head(1)"
   ]
  },
  {
   "cell_type": "code",
   "execution_count": null,
   "id": "imposed-portable",
   "metadata": {},
   "outputs": [],
   "source": [
    "list1 = data_2009_2019.columns.values.tolist()\n",
    "list2 = data_2020.columns.values.tolist()\n",
    "\n",
    "list_difference = [item for item in list1 if item not in list2]\n",
    "print(list_difference)"
   ]
  },
  {
   "cell_type": "code",
   "execution_count": null,
   "id": "governing-elements",
   "metadata": {},
   "outputs": [],
   "source": [
    "#It can be seen that the 'UCR #' shows up only in the 2009-2019 data and realistically serves no purpose because its a code only a cop would udnerstand\n",
    "#So it should be droped to simplify\n",
    "data_2009_2019 = data_2009_2019.drop(columns=['UCR #'])"
   ]
  },
  {
   "cell_type": "code",
   "execution_count": null,
   "id": "fluid-ending",
   "metadata": {},
   "outputs": [],
   "source": []
  },
  {
   "cell_type": "code",
   "execution_count": null,
   "id": "respective-moldova",
   "metadata": {},
   "outputs": [],
   "source": [
    "list1 = data_2009_2019.columns.values.tolist()\n",
    "list2 = data_2020.columns.values.tolist()\n",
    "\n",
    "list_difference = [item for item in list1 if item not in list2]\n",
    "print(list_difference)\n",
    "#There should now be no differences as at all"
   ]
  },
  {
   "cell_type": "code",
   "execution_count": null,
   "id": "exotic-factor",
   "metadata": {
    "scrolled": true
   },
   "outputs": [],
   "source": []
  },
  {
   "cell_type": "code",
   "execution_count": null,
   "id": "empirical-processing",
   "metadata": {},
   "outputs": [],
   "source": [
    "#data[['Report Date','Occur Date','Possible Date']] = data[['Report Date','Occur Date','Possible Date']].apply(pd.to_datetime)"
   ]
  },
  {
   "cell_type": "code",
   "execution_count": null,
   "id": "centered-midwest",
   "metadata": {},
   "outputs": [],
   "source": [
    "#Concat the dataframes together\n",
    "data = pd.concat([data_2009_2019, data_2020])"
   ]
  },
  {
   "cell_type": "code",
   "execution_count": null,
   "id": "affected-edward",
   "metadata": {},
   "outputs": [],
   "source": [
    "data_2009_2019['Occur Date'].sort_values()"
   ]
  },
  {
   "cell_type": "code",
   "execution_count": null,
   "id": "impressive-syracuse",
   "metadata": {},
   "outputs": [],
   "source": [
    "data['Report Date'] = pd.to_datetime(data['Report Date'])\n",
    "#data['Occur Date'] = pd.to_datetime(data['Occur Date'])"
   ]
  },
  {
   "cell_type": "code",
   "execution_count": null,
   "id": "olympic-sherman",
   "metadata": {},
   "outputs": [],
   "source": [
    "#data = data.astype({'Report Date':'datetime64','Occur Date':'datetime64','Possible Date':'datetime64'},errors = 'raise')"
   ]
  },
  {
   "cell_type": "code",
   "execution_count": null,
   "id": "viral-tomorrow",
   "metadata": {},
   "outputs": [],
   "source": [
    "data.dtypes"
   ]
  },
  {
   "cell_type": "code",
   "execution_count": null,
   "id": "opposed-impression",
   "metadata": {},
   "outputs": [],
   "source": [
    "data.describe"
   ]
  },
  {
   "cell_type": "code",
   "execution_count": null,
   "id": "referenced-violence",
   "metadata": {},
   "outputs": [],
   "source": [
    "data.to_csv('data.csv')"
   ]
  },
  {
   "cell_type": "code",
   "execution_count": null,
   "id": "protecting-richmond",
   "metadata": {},
   "outputs": [],
   "source": [
    "df.reset_index(drop=True, inplace=True)\n",
    "df.to_json('data.json')"
   ]
  },
  {
   "cell_type": "markdown",
   "id": "cathedral-animal",
   "metadata": {},
   "source": [
    "# Machine Learnings"
   ]
  },
  {
   "cell_type": "markdown",
   "id": "silver-booking",
   "metadata": {},
   "source": [
    "## Read the CSV and Perform Basic Data Cleaning"
   ]
  },
  {
   "cell_type": "code",
   "execution_count": 22,
   "id": "informed-stranger",
   "metadata": {},
   "outputs": [],
   "source": [
    "import pandas as pd\n",
    "import numpy as np"
   ]
  },
  {
   "cell_type": "code",
   "execution_count": 23,
   "id": "written-arrow",
   "metadata": {},
   "outputs": [
    {
     "name": "stderr",
     "output_type": "stream",
     "text": [
      "/usr/local/lib/python3.8/site-packages/IPython/core/interactiveshell.py:3155: DtypeWarning: Columns (4,6,7,12) have mixed types.Specify dtype option on import or set low_memory=False.\n",
      "  has_raised = await self.run_ast_nodes(code_ast.body, cell_name,\n"
     ]
    }
   ],
   "source": [
    "df = pd.read_csv(\"data.csv\")\n",
    "# Drop the null columns where all values are null\n",
    "#df = df.dropna(axis='columns', how='all')\n",
    "# Drop the null rows\n",
    "df = df[[\"Latitude\",\"Longitude\",\"Neighborhood\"]]\n",
    "df = df.dropna()\n"
   ]
  },
  {
   "cell_type": "code",
   "execution_count": 24,
   "id": "bound-premium",
   "metadata": {},
   "outputs": [],
   "source": [
    "#df  = df.head(100000)"
   ]
  },
  {
   "cell_type": "markdown",
   "id": "former-concrete",
   "metadata": {},
   "source": [
    "## Create a Train Test Split\n",
    "\n",
    "Use `Neighborhood` for the y values\n",
    "This can be an idiot check to see if lat an lon can predict neighborhood"
   ]
  },
  {
   "cell_type": "code",
   "execution_count": 26,
   "id": "immune-upper",
   "metadata": {},
   "outputs": [],
   "source": [
    "from sklearn.model_selection import train_test_split\n",
    "y = df[\"Neighborhood\"]\n",
    "X = df.drop(columns=[\"Neighborhood\"])\n",
    "\n",
    "#For example, if variable y is a binary categorical variable with values 0 and 1 and there are 25% of zeros and 75% of ones, stratify=y will make sure that your random split has 25% of 0's and 75% of 1's.\n",
    "X_train, X_test, y_train, y_test = train_test_split(X, y, test_size=0.33, random_state=42)\n",
    "#X_train, X_test, y_train, y_test = train_test_split(X, y, random_state=1, stratify=y)"
   ]
  },
  {
   "cell_type": "code",
   "execution_count": null,
   "id": "blond-hamilton",
   "metadata": {},
   "outputs": [],
   "source": []
  },
  {
   "cell_type": "markdown",
   "id": "rental-notion",
   "metadata": {},
   "source": [
    "# Pre-processing\n",
    "\n",
    "Scale the data using the MinMaxScaler"
   ]
  },
  {
   "cell_type": "code",
   "execution_count": 27,
   "id": "surrounded-repository",
   "metadata": {},
   "outputs": [],
   "source": [
    "from sklearn.preprocessing import MinMaxScaler\n",
    "X_scaler = MinMaxScaler().fit(X_train)#Compute the minimum and maximum to be used for later scaling.\n",
    "\n",
    "X_train_scaled = X_scaler.transform(X_train)#Scale features of X_train according to feature_range.\n",
    "X_test_scaled = X_scaler.transform(X_test)"
   ]
  },
  {
   "cell_type": "code",
   "execution_count": 33,
   "id": "smooth-belly",
   "metadata": {},
   "outputs": [
    {
     "data": {
      "text/plain": [
       "243"
      ]
     },
     "execution_count": 33,
     "metadata": {},
     "output_type": "execute_result"
    }
   ],
   "source": [
    "y_train.nunique()"
   ]
  },
  {
   "cell_type": "markdown",
   "id": "separate-subscription",
   "metadata": {},
   "source": [
    "# Train the Model"
   ]
  },
  {
   "cell_type": "code",
   "execution_count": 7,
   "id": "covered-stations",
   "metadata": {},
   "outputs": [],
   "source": [
    "from sklearn.linear_model import LogisticRegression"
   ]
  },
  {
   "cell_type": "code",
   "execution_count": 29,
   "id": "deluxe-reach",
   "metadata": {},
   "outputs": [
    {
     "name": "stderr",
     "output_type": "stream",
     "text": [
      "/usr/local/lib/python3.8/site-packages/sklearn/linear_model/_logistic.py:763: ConvergenceWarning: lbfgs failed to converge (status=1):\n",
      "STOP: TOTAL NO. of ITERATIONS REACHED LIMIT.\n",
      "\n",
      "Increase the number of iterations (max_iter) or scale the data as shown in:\n",
      "    https://scikit-learn.org/stable/modules/preprocessing.html\n",
      "Please also refer to the documentation for alternative solver options:\n",
      "    https://scikit-learn.org/stable/modules/linear_model.html#logistic-regression\n",
      "  n_iter_i = _check_optimize_result(\n"
     ]
    },
    {
     "data": {
      "text/plain": [
       "LogisticRegression(max_iter=200)"
      ]
     },
     "execution_count": 29,
     "metadata": {},
     "output_type": "execute_result"
    }
   ],
   "source": [
    "model = LogisticRegression(max_iter=200)\n",
    "model.fit(X_train_scaled, y_train)# Fit the LR model"
   ]
  },
  {
   "cell_type": "code",
   "execution_count": 37,
   "id": "remarkable-crime",
   "metadata": {},
   "outputs": [
    {
     "data": {
      "text/html": [
       "<div>\n",
       "<style scoped>\n",
       "    .dataframe tbody tr th:only-of-type {\n",
       "        vertical-align: middle;\n",
       "    }\n",
       "\n",
       "    .dataframe tbody tr th {\n",
       "        vertical-align: top;\n",
       "    }\n",
       "\n",
       "    .dataframe thead th {\n",
       "        text-align: right;\n",
       "    }\n",
       "</style>\n",
       "<table border=\"1\" class=\"dataframe\">\n",
       "  <thead>\n",
       "    <tr style=\"text-align: right;\">\n",
       "      <th></th>\n",
       "      <th>Latitude</th>\n",
       "      <th>Longitude</th>\n",
       "      <th>Neighborhood</th>\n",
       "    </tr>\n",
       "  </thead>\n",
       "  <tbody>\n",
       "    <tr>\n",
       "      <th>0</th>\n",
       "      <td>33.688450</td>\n",
       "      <td>-84.493280</td>\n",
       "      <td>Greenbriar</td>\n",
       "    </tr>\n",
       "    <tr>\n",
       "      <th>1</th>\n",
       "      <td>33.753200</td>\n",
       "      <td>-84.392010</td>\n",
       "      <td>Downtown</td>\n",
       "    </tr>\n",
       "    <tr>\n",
       "      <th>2</th>\n",
       "      <td>33.757350</td>\n",
       "      <td>-84.502820</td>\n",
       "      <td>Adamsville</td>\n",
       "    </tr>\n",
       "    <tr>\n",
       "      <th>3</th>\n",
       "      <td>33.846760</td>\n",
       "      <td>-84.362120</td>\n",
       "      <td>Lenox</td>\n",
       "    </tr>\n",
       "    <tr>\n",
       "      <th>4</th>\n",
       "      <td>33.686770</td>\n",
       "      <td>-84.497730</td>\n",
       "      <td>Greenbriar</td>\n",
       "    </tr>\n",
       "    <tr>\n",
       "      <th>...</th>\n",
       "      <td>...</td>\n",
       "      <td>...</td>\n",
       "      <td>...</td>\n",
       "    </tr>\n",
       "    <tr>\n",
       "      <th>350158</th>\n",
       "      <td>33.747960</td>\n",
       "      <td>-84.400728</td>\n",
       "      <td>Castleberry Hill</td>\n",
       "    </tr>\n",
       "    <tr>\n",
       "      <th>350159</th>\n",
       "      <td>33.737731</td>\n",
       "      <td>-84.368560</td>\n",
       "      <td>Grant Park</td>\n",
       "    </tr>\n",
       "    <tr>\n",
       "      <th>350160</th>\n",
       "      <td>33.742222</td>\n",
       "      <td>-84.341593</td>\n",
       "      <td>East Atlanta</td>\n",
       "    </tr>\n",
       "    <tr>\n",
       "      <th>350161</th>\n",
       "      <td>33.772028</td>\n",
       "      <td>-84.415209</td>\n",
       "      <td>English Avenue</td>\n",
       "    </tr>\n",
       "    <tr>\n",
       "      <th>350162</th>\n",
       "      <td>33.762930</td>\n",
       "      <td>-84.388290</td>\n",
       "      <td>Downtown</td>\n",
       "    </tr>\n",
       "  </tbody>\n",
       "</table>\n",
       "<p>337523 rows × 3 columns</p>\n",
       "</div>"
      ],
      "text/plain": [
       "         Latitude  Longitude      Neighborhood\n",
       "0       33.688450 -84.493280        Greenbriar\n",
       "1       33.753200 -84.392010          Downtown\n",
       "2       33.757350 -84.502820        Adamsville\n",
       "3       33.846760 -84.362120             Lenox\n",
       "4       33.686770 -84.497730        Greenbriar\n",
       "...           ...        ...               ...\n",
       "350158  33.747960 -84.400728  Castleberry Hill\n",
       "350159  33.737731 -84.368560        Grant Park\n",
       "350160  33.742222 -84.341593      East Atlanta\n",
       "350161  33.772028 -84.415209    English Avenue\n",
       "350162  33.762930 -84.388290          Downtown\n",
       "\n",
       "[337523 rows x 3 columns]"
      ]
     },
     "execution_count": 37,
     "metadata": {},
     "output_type": "execute_result"
    }
   ],
   "source": [
    "df"
   ]
  },
  {
   "cell_type": "code",
   "execution_count": 30,
   "id": "august-spanish",
   "metadata": {},
   "outputs": [
    {
     "name": "stdout",
     "output_type": "stream",
     "text": [
      "Training Data Score: 0.3928318740603166\n",
      "Testing Data Score: 0.3916935259420199\n"
     ]
    }
   ],
   "source": [
    "print(f\"Training Data Score: {model.score(X_train_scaled, y_train)}\")\n",
    "print(f\"Testing Data Score: {model.score(X_test_scaled, y_test)}\")"
   ]
  },
  {
   "cell_type": "code",
   "execution_count": null,
   "id": "polish-poultry",
   "metadata": {},
   "outputs": [],
   "source": [
    "model.predict()"
   ]
  },
  {
   "cell_type": "code",
   "execution_count": null,
   "id": "tight-institute",
   "metadata": {},
   "outputs": [],
   "source": [
    "X_scaler.transform(X_train)[0]"
   ]
  },
  {
   "cell_type": "code",
   "execution_count": 34,
   "id": "violent-cedar",
   "metadata": {},
   "outputs": [
    {
     "data": {
      "text/plain": [
       "array(['Downtown', 'Downtown', 'Grove Park', ..., 'Buckhead Forest',\n",
       "       'Midtown', 'East Atlanta'], dtype=object)"
      ]
     },
     "execution_count": 34,
     "metadata": {},
     "output_type": "execute_result"
    }
   ],
   "source": [
    "model.predict(X_train_scaled)"
   ]
  },
  {
   "cell_type": "code",
   "execution_count": null,
   "id": "consecutive-gnome",
   "metadata": {},
   "outputs": [],
   "source": []
  },
  {
   "cell_type": "markdown",
   "id": "preliminary-briefs",
   "metadata": {},
   "source": [
    "# Hyperparameter Tuning\n",
    "\n",
    "Use `GridSearchCV` to tune the model's parameters"
   ]
  },
  {
   "cell_type": "code",
   "execution_count": 49,
   "id": "capable-texas",
   "metadata": {},
   "outputs": [
    {
     "ename": "NameError",
     "evalue": "name 'LogisticRegression' is not defined",
     "output_type": "error",
     "traceback": [
      "\u001b[0;31m---------------------------------------------------------------------------\u001b[0m",
      "\u001b[0;31mNameError\u001b[0m                                 Traceback (most recent call last)",
      "\u001b[0;32m<ipython-input-49-712903cb697f>\u001b[0m in \u001b[0;36m<module>\u001b[0;34m\u001b[0m\n\u001b[1;32m      4\u001b[0m param_grid = {'C': [1, 3,5,7,9],\n\u001b[1;32m      5\u001b[0m               'penalty': [\"l1\", \"l2\", \"none\"]}\n\u001b[0;32m----> 6\u001b[0;31m \u001b[0mModel\u001b[0m \u001b[0;34m=\u001b[0m \u001b[0mLogisticRegression\u001b[0m\u001b[0;34m(\u001b[0m\u001b[0msolver\u001b[0m\u001b[0;34m=\u001b[0m\u001b[0;34m'liblinear'\u001b[0m\u001b[0;34m)\u001b[0m\u001b[0;34m\u001b[0m\u001b[0;34m\u001b[0m\u001b[0m\n\u001b[0m\u001b[1;32m      7\u001b[0m \u001b[0mgrid\u001b[0m \u001b[0;34m=\u001b[0m \u001b[0mGridSearchCV\u001b[0m\u001b[0;34m(\u001b[0m\u001b[0mModel\u001b[0m\u001b[0;34m,\u001b[0m \u001b[0mparam_grid\u001b[0m\u001b[0;34m,\u001b[0m \u001b[0mverbose\u001b[0m\u001b[0;34m=\u001b[0m\u001b[0;36m3\u001b[0m\u001b[0;34m)\u001b[0m\u001b[0;34m\u001b[0m\u001b[0;34m\u001b[0m\u001b[0m\n\u001b[1;32m      8\u001b[0m \u001b[0mgrid\u001b[0m\u001b[0;34m\u001b[0m\u001b[0;34m\u001b[0m\u001b[0m\n",
      "\u001b[0;31mNameError\u001b[0m: name 'LogisticRegression' is not defined"
     ]
    }
   ],
   "source": [
    "from sklearn.model_selection import GridSearchCV\n",
    "# Cfloat, default=1.0 Inverse of regularization strength; must be a positive float. Like in support vector machines, smaller values specify stronger regularization.\n",
    "# penalty{‘l1’, ‘l2’, ‘elasticnet’, ‘none’}, default=’l2’\n",
    "param_grid = {'C': [1, 3,5,7,9],\n",
    "              'penalty': [\"l1\", \"l2\", \"none\"]}\n",
    "Model = LogisticRegression(solver='liblinear')\n",
    "grid = GridSearchCV(Model, param_grid, verbose=3)\n",
    "grid"
   ]
  },
  {
   "cell_type": "code",
   "execution_count": null,
   "id": "commercial-probe",
   "metadata": {},
   "outputs": [],
   "source": [
    "idk = grid.fit(X_train_scaled, y_train)\n",
    "idk"
   ]
  },
  {
   "cell_type": "markdown",
   "id": "ecological-chemistry",
   "metadata": {},
   "source": [
    "# Need to Decrease Sample Size\n",
    "\n",
    "It has become apparent that there is too mach data and our relatively weak computers are not up to the challenge give the time.\n",
    "\n",
    "It was decided to just look at 5 major \"Neighborhood\" of interest:\n",
    "\n",
    "buckhead, midtown, brookhaven, downtown, old fourth ward"
   ]
  },
  {
   "cell_type": "code",
   "execution_count": 71,
   "id": "palestinian-johnston",
   "metadata": {},
   "outputs": [
    {
     "name": "stderr",
     "output_type": "stream",
     "text": [
      "/usr/local/lib/python3.8/site-packages/IPython/core/interactiveshell.py:3155: DtypeWarning: Columns (4,6,7,12) have mixed types.Specify dtype option on import or set low_memory=False.\n",
      "  has_raised = await self.run_ast_nodes(code_ast.body, cell_name,\n"
     ]
    }
   ],
   "source": [
    "df = pd.read_csv(\"data.csv\")\n",
    "# Drop the null columns where all values are null\n",
    "#df = df.dropna(axis='columns', how='all')\n",
    "# Drop the null rows\n",
    "df_reduced = df[[\"Latitude\",\"Longitude\",\"Neighborhood\"]]\n",
    "df_reduced = df_reduced.dropna()"
   ]
  },
  {
   "cell_type": "code",
   "execution_count": 72,
   "id": "respective-conservative",
   "metadata": {},
   "outputs": [],
   "source": [
    "df_reduced[\"Neighborhood\"].unique();"
   ]
  },
  {
   "cell_type": "code",
   "execution_count": 73,
   "id": "hourly-level",
   "metadata": {},
   "outputs": [],
   "source": [
    "#Used to show all rows for error checking\n",
    "#pd.set_option('display.max_rows', None)\n",
    "pd.set_option('display.max_rows', 100)"
   ]
  },
  {
   "cell_type": "code",
   "execution_count": 74,
   "id": "sought-result",
   "metadata": {},
   "outputs": [
    {
     "data": {
      "text/html": [
       "<div>\n",
       "<style scoped>\n",
       "    .dataframe tbody tr th:only-of-type {\n",
       "        vertical-align: middle;\n",
       "    }\n",
       "\n",
       "    .dataframe tbody tr th {\n",
       "        vertical-align: top;\n",
       "    }\n",
       "\n",
       "    .dataframe thead th {\n",
       "        text-align: right;\n",
       "    }\n",
       "</style>\n",
       "<table border=\"1\" class=\"dataframe\">\n",
       "  <thead>\n",
       "    <tr style=\"text-align: right;\">\n",
       "      <th></th>\n",
       "      <th>Latitude</th>\n",
       "      <th>Longitude</th>\n",
       "      <th>Neighborhood</th>\n",
       "    </tr>\n",
       "  </thead>\n",
       "  <tbody>\n",
       "    <tr>\n",
       "      <th>13</th>\n",
       "      <td>33.851150</td>\n",
       "      <td>-84.379440</td>\n",
       "      <td>Buckhead Forest</td>\n",
       "    </tr>\n",
       "    <tr>\n",
       "      <th>76</th>\n",
       "      <td>33.837520</td>\n",
       "      <td>-84.375740</td>\n",
       "      <td>Buckhead Village</td>\n",
       "    </tr>\n",
       "    <tr>\n",
       "      <th>118</th>\n",
       "      <td>33.848830</td>\n",
       "      <td>-84.381740</td>\n",
       "      <td>Buckhead Forest</td>\n",
       "    </tr>\n",
       "    <tr>\n",
       "      <th>217</th>\n",
       "      <td>33.847090</td>\n",
       "      <td>-84.372950</td>\n",
       "      <td>North Buckhead</td>\n",
       "    </tr>\n",
       "    <tr>\n",
       "      <th>226</th>\n",
       "      <td>33.847120</td>\n",
       "      <td>-84.373850</td>\n",
       "      <td>Buckhead Forest</td>\n",
       "    </tr>\n",
       "    <tr>\n",
       "      <th>...</th>\n",
       "      <td>...</td>\n",
       "      <td>...</td>\n",
       "      <td>...</td>\n",
       "    </tr>\n",
       "    <tr>\n",
       "      <th>350055</th>\n",
       "      <td>33.852786</td>\n",
       "      <td>-84.362043</td>\n",
       "      <td>North Buckhead</td>\n",
       "    </tr>\n",
       "    <tr>\n",
       "      <th>350059</th>\n",
       "      <td>33.851598</td>\n",
       "      <td>-84.380612</td>\n",
       "      <td>Buckhead Forest</td>\n",
       "    </tr>\n",
       "    <tr>\n",
       "      <th>350082</th>\n",
       "      <td>33.839330</td>\n",
       "      <td>-84.376588</td>\n",
       "      <td>Buckhead Village</td>\n",
       "    </tr>\n",
       "    <tr>\n",
       "      <th>350127</th>\n",
       "      <td>33.842061</td>\n",
       "      <td>-84.373026</td>\n",
       "      <td>Buckhead Village</td>\n",
       "    </tr>\n",
       "    <tr>\n",
       "      <th>350129</th>\n",
       "      <td>33.839546</td>\n",
       "      <td>-84.379667</td>\n",
       "      <td>Buckhead Village</td>\n",
       "    </tr>\n",
       "  </tbody>\n",
       "</table>\n",
       "<p>10156 rows × 3 columns</p>\n",
       "</div>"
      ],
      "text/plain": [
       "         Latitude  Longitude      Neighborhood\n",
       "13      33.851150 -84.379440   Buckhead Forest\n",
       "76      33.837520 -84.375740  Buckhead Village\n",
       "118     33.848830 -84.381740   Buckhead Forest\n",
       "217     33.847090 -84.372950    North Buckhead\n",
       "226     33.847120 -84.373850   Buckhead Forest\n",
       "...           ...        ...               ...\n",
       "350055  33.852786 -84.362043    North Buckhead\n",
       "350059  33.851598 -84.380612   Buckhead Forest\n",
       "350082  33.839330 -84.376588  Buckhead Village\n",
       "350127  33.842061 -84.373026  Buckhead Village\n",
       "350129  33.839546 -84.379667  Buckhead Village\n",
       "\n",
       "[10156 rows x 3 columns]"
      ]
     },
     "execution_count": 74,
     "metadata": {},
     "output_type": "execute_result"
    }
   ],
   "source": [
    "df_buckhead = df_reduced[(df_reduced[\"Neighborhood\"] == \"Buckhead Forest\") |(df_reduced[\"Neighborhood\"] == \"Buckhead Village\")\n",
    "           |(df_reduced[\"Neighborhood\"] == \"North Buckhead\") |(df_reduced[\"Neighborhood\"] == \"Buckhead Heights\")\n",
    "          ]\n",
    "df_buckhead"
   ]
  },
  {
   "cell_type": "code",
   "execution_count": 75,
   "id": "dirty-deficit",
   "metadata": {},
   "outputs": [
    {
     "data": {
      "text/plain": [
       "13         Buckhead Forest\n",
       "76        Buckhead Village\n",
       "118        Buckhead Forest\n",
       "217         North Buckhead\n",
       "226        Buckhead Forest\n",
       "                ...       \n",
       "350055      North Buckhead\n",
       "350059     Buckhead Forest\n",
       "350082    Buckhead Village\n",
       "350127    Buckhead Village\n",
       "350129    Buckhead Village\n",
       "Name: Neighborhood, Length: 10156, dtype: object"
      ]
     },
     "execution_count": 75,
     "metadata": {},
     "output_type": "execute_result"
    }
   ],
   "source": [
    "df_buckhead['Neighborhood']"
   ]
  },
  {
   "cell_type": "code",
   "execution_count": 80,
   "id": "homeless-bruce",
   "metadata": {},
   "outputs": [
    {
     "data": {
      "text/html": [
       "<div>\n",
       "<style scoped>\n",
       "    .dataframe tbody tr th:only-of-type {\n",
       "        vertical-align: middle;\n",
       "    }\n",
       "\n",
       "    .dataframe tbody tr th {\n",
       "        vertical-align: top;\n",
       "    }\n",
       "\n",
       "    .dataframe thead th {\n",
       "        text-align: right;\n",
       "    }\n",
       "</style>\n",
       "<table border=\"1\" class=\"dataframe\">\n",
       "  <thead>\n",
       "    <tr style=\"text-align: right;\">\n",
       "      <th></th>\n",
       "      <th>Latitude</th>\n",
       "      <th>Longitude</th>\n",
       "      <th>Neighborhood</th>\n",
       "    </tr>\n",
       "  </thead>\n",
       "  <tbody>\n",
       "    <tr>\n",
       "      <th>13</th>\n",
       "      <td>33.851150</td>\n",
       "      <td>-84.379440</td>\n",
       "      <td>Buckhead</td>\n",
       "    </tr>\n",
       "    <tr>\n",
       "      <th>76</th>\n",
       "      <td>33.837520</td>\n",
       "      <td>-84.375740</td>\n",
       "      <td>Buckhead</td>\n",
       "    </tr>\n",
       "    <tr>\n",
       "      <th>118</th>\n",
       "      <td>33.848830</td>\n",
       "      <td>-84.381740</td>\n",
       "      <td>Buckhead</td>\n",
       "    </tr>\n",
       "    <tr>\n",
       "      <th>217</th>\n",
       "      <td>33.847090</td>\n",
       "      <td>-84.372950</td>\n",
       "      <td>Buckhead</td>\n",
       "    </tr>\n",
       "    <tr>\n",
       "      <th>226</th>\n",
       "      <td>33.847120</td>\n",
       "      <td>-84.373850</td>\n",
       "      <td>Buckhead</td>\n",
       "    </tr>\n",
       "    <tr>\n",
       "      <th>...</th>\n",
       "      <td>...</td>\n",
       "      <td>...</td>\n",
       "      <td>...</td>\n",
       "    </tr>\n",
       "    <tr>\n",
       "      <th>350055</th>\n",
       "      <td>33.852786</td>\n",
       "      <td>-84.362043</td>\n",
       "      <td>Buckhead</td>\n",
       "    </tr>\n",
       "    <tr>\n",
       "      <th>350059</th>\n",
       "      <td>33.851598</td>\n",
       "      <td>-84.380612</td>\n",
       "      <td>Buckhead</td>\n",
       "    </tr>\n",
       "    <tr>\n",
       "      <th>350082</th>\n",
       "      <td>33.839330</td>\n",
       "      <td>-84.376588</td>\n",
       "      <td>Buckhead</td>\n",
       "    </tr>\n",
       "    <tr>\n",
       "      <th>350127</th>\n",
       "      <td>33.842061</td>\n",
       "      <td>-84.373026</td>\n",
       "      <td>Buckhead</td>\n",
       "    </tr>\n",
       "    <tr>\n",
       "      <th>350129</th>\n",
       "      <td>33.839546</td>\n",
       "      <td>-84.379667</td>\n",
       "      <td>Buckhead</td>\n",
       "    </tr>\n",
       "  </tbody>\n",
       "</table>\n",
       "<p>10156 rows × 3 columns</p>\n",
       "</div>"
      ],
      "text/plain": [
       "         Latitude  Longitude Neighborhood\n",
       "13      33.851150 -84.379440     Buckhead\n",
       "76      33.837520 -84.375740     Buckhead\n",
       "118     33.848830 -84.381740     Buckhead\n",
       "217     33.847090 -84.372950     Buckhead\n",
       "226     33.847120 -84.373850     Buckhead\n",
       "...           ...        ...          ...\n",
       "350055  33.852786 -84.362043     Buckhead\n",
       "350059  33.851598 -84.380612     Buckhead\n",
       "350082  33.839330 -84.376588     Buckhead\n",
       "350127  33.842061 -84.373026     Buckhead\n",
       "350129  33.839546 -84.379667     Buckhead\n",
       "\n",
       "[10156 rows x 3 columns]"
      ]
     },
     "execution_count": 80,
     "metadata": {},
     "output_type": "execute_result"
    }
   ],
   "source": [
    "df_buckhead = df_buckhead.assign(Neighborhood = 'Buckhead' )\n",
    "df_buckhead"
   ]
  },
  {
   "cell_type": "code",
   "execution_count": 81,
   "id": "voluntary-anatomy",
   "metadata": {},
   "outputs": [
    {
     "data": {
      "text/html": [
       "<div>\n",
       "<style scoped>\n",
       "    .dataframe tbody tr th:only-of-type {\n",
       "        vertical-align: middle;\n",
       "    }\n",
       "\n",
       "    .dataframe tbody tr th {\n",
       "        vertical-align: top;\n",
       "    }\n",
       "\n",
       "    .dataframe thead th {\n",
       "        text-align: right;\n",
       "    }\n",
       "</style>\n",
       "<table border=\"1\" class=\"dataframe\">\n",
       "  <thead>\n",
       "    <tr style=\"text-align: right;\">\n",
       "      <th></th>\n",
       "      <th>Latitude</th>\n",
       "      <th>Longitude</th>\n",
       "      <th>Neighborhood</th>\n",
       "    </tr>\n",
       "  </thead>\n",
       "  <tbody>\n",
       "    <tr>\n",
       "      <th>1</th>\n",
       "      <td>33.753200</td>\n",
       "      <td>-84.392010</td>\n",
       "      <td>Downtown</td>\n",
       "    </tr>\n",
       "    <tr>\n",
       "      <th>9</th>\n",
       "      <td>33.762690</td>\n",
       "      <td>-84.397020</td>\n",
       "      <td>Downtown</td>\n",
       "    </tr>\n",
       "    <tr>\n",
       "      <th>15</th>\n",
       "      <td>33.752830</td>\n",
       "      <td>-84.366870</td>\n",
       "      <td>Old Fourth Ward</td>\n",
       "    </tr>\n",
       "    <tr>\n",
       "      <th>16</th>\n",
       "      <td>33.780800</td>\n",
       "      <td>-84.373340</td>\n",
       "      <td>Midtown</td>\n",
       "    </tr>\n",
       "    <tr>\n",
       "      <th>17</th>\n",
       "      <td>33.770230</td>\n",
       "      <td>-84.388150</td>\n",
       "      <td>Downtown</td>\n",
       "    </tr>\n",
       "    <tr>\n",
       "      <th>...</th>\n",
       "      <td>...</td>\n",
       "      <td>...</td>\n",
       "      <td>...</td>\n",
       "    </tr>\n",
       "    <tr>\n",
       "      <th>350126</th>\n",
       "      <td>33.783060</td>\n",
       "      <td>-84.379421</td>\n",
       "      <td>Midtown</td>\n",
       "    </tr>\n",
       "    <tr>\n",
       "      <th>350138</th>\n",
       "      <td>33.763927</td>\n",
       "      <td>-84.396356</td>\n",
       "      <td>Downtown</td>\n",
       "    </tr>\n",
       "    <tr>\n",
       "      <th>350145</th>\n",
       "      <td>33.768814</td>\n",
       "      <td>-84.366527</td>\n",
       "      <td>Old Fourth Ward</td>\n",
       "    </tr>\n",
       "    <tr>\n",
       "      <th>350156</th>\n",
       "      <td>33.785508</td>\n",
       "      <td>-84.383434</td>\n",
       "      <td>Midtown</td>\n",
       "    </tr>\n",
       "    <tr>\n",
       "      <th>350162</th>\n",
       "      <td>33.762930</td>\n",
       "      <td>-84.388290</td>\n",
       "      <td>Downtown</td>\n",
       "    </tr>\n",
       "  </tbody>\n",
       "</table>\n",
       "<p>55387 rows × 3 columns</p>\n",
       "</div>"
      ],
      "text/plain": [
       "         Latitude  Longitude     Neighborhood\n",
       "1       33.753200 -84.392010         Downtown\n",
       "9       33.762690 -84.397020         Downtown\n",
       "15      33.752830 -84.366870  Old Fourth Ward\n",
       "16      33.780800 -84.373340          Midtown\n",
       "17      33.770230 -84.388150         Downtown\n",
       "...           ...        ...              ...\n",
       "350126  33.783060 -84.379421          Midtown\n",
       "350138  33.763927 -84.396356         Downtown\n",
       "350145  33.768814 -84.366527  Old Fourth Ward\n",
       "350156  33.785508 -84.383434          Midtown\n",
       "350162  33.762930 -84.388290         Downtown\n",
       "\n",
       "[55387 rows x 3 columns]"
      ]
     },
     "execution_count": 81,
     "metadata": {},
     "output_type": "execute_result"
    }
   ],
   "source": [
    "df_other_hoods  = df_reduced[(df_reduced[\"Neighborhood\"] == \"Midtown\") | (df_reduced[\"Neighborhood\"] == \"Brookhaven\")\n",
    "          |(df_reduced[\"Neighborhood\"] == \"Downtown\") | (df_reduced[\"Neighborhood\"] == \"Old Fourth Ward\")]\n",
    "df_other_hoods"
   ]
  },
  {
   "cell_type": "code",
   "execution_count": 85,
   "id": "plain-shirt",
   "metadata": {
    "scrolled": true
   },
   "outputs": [
    {
     "data": {
      "text/html": [
       "<div>\n",
       "<style scoped>\n",
       "    .dataframe tbody tr th:only-of-type {\n",
       "        vertical-align: middle;\n",
       "    }\n",
       "\n",
       "    .dataframe tbody tr th {\n",
       "        vertical-align: top;\n",
       "    }\n",
       "\n",
       "    .dataframe thead th {\n",
       "        text-align: right;\n",
       "    }\n",
       "</style>\n",
       "<table border=\"1\" class=\"dataframe\">\n",
       "  <thead>\n",
       "    <tr style=\"text-align: right;\">\n",
       "      <th></th>\n",
       "      <th>Latitude</th>\n",
       "      <th>Longitude</th>\n",
       "      <th>Neighborhood</th>\n",
       "    </tr>\n",
       "  </thead>\n",
       "  <tbody>\n",
       "    <tr>\n",
       "      <th>0</th>\n",
       "      <td>33.851150</td>\n",
       "      <td>-84.379440</td>\n",
       "      <td>Buckhead</td>\n",
       "    </tr>\n",
       "    <tr>\n",
       "      <th>1</th>\n",
       "      <td>33.837520</td>\n",
       "      <td>-84.375740</td>\n",
       "      <td>Buckhead</td>\n",
       "    </tr>\n",
       "    <tr>\n",
       "      <th>2</th>\n",
       "      <td>33.848830</td>\n",
       "      <td>-84.381740</td>\n",
       "      <td>Buckhead</td>\n",
       "    </tr>\n",
       "    <tr>\n",
       "      <th>3</th>\n",
       "      <td>33.847090</td>\n",
       "      <td>-84.372950</td>\n",
       "      <td>Buckhead</td>\n",
       "    </tr>\n",
       "    <tr>\n",
       "      <th>4</th>\n",
       "      <td>33.847120</td>\n",
       "      <td>-84.373850</td>\n",
       "      <td>Buckhead</td>\n",
       "    </tr>\n",
       "    <tr>\n",
       "      <th>...</th>\n",
       "      <td>...</td>\n",
       "      <td>...</td>\n",
       "      <td>...</td>\n",
       "    </tr>\n",
       "    <tr>\n",
       "      <th>65538</th>\n",
       "      <td>33.783060</td>\n",
       "      <td>-84.379421</td>\n",
       "      <td>Midtown</td>\n",
       "    </tr>\n",
       "    <tr>\n",
       "      <th>65539</th>\n",
       "      <td>33.763927</td>\n",
       "      <td>-84.396356</td>\n",
       "      <td>Downtown</td>\n",
       "    </tr>\n",
       "    <tr>\n",
       "      <th>65540</th>\n",
       "      <td>33.768814</td>\n",
       "      <td>-84.366527</td>\n",
       "      <td>Old Fourth Ward</td>\n",
       "    </tr>\n",
       "    <tr>\n",
       "      <th>65541</th>\n",
       "      <td>33.785508</td>\n",
       "      <td>-84.383434</td>\n",
       "      <td>Midtown</td>\n",
       "    </tr>\n",
       "    <tr>\n",
       "      <th>65542</th>\n",
       "      <td>33.762930</td>\n",
       "      <td>-84.388290</td>\n",
       "      <td>Downtown</td>\n",
       "    </tr>\n",
       "  </tbody>\n",
       "</table>\n",
       "<p>65543 rows × 3 columns</p>\n",
       "</div>"
      ],
      "text/plain": [
       "        Latitude  Longitude     Neighborhood\n",
       "0      33.851150 -84.379440         Buckhead\n",
       "1      33.837520 -84.375740         Buckhead\n",
       "2      33.848830 -84.381740         Buckhead\n",
       "3      33.847090 -84.372950         Buckhead\n",
       "4      33.847120 -84.373850         Buckhead\n",
       "...          ...        ...              ...\n",
       "65538  33.783060 -84.379421          Midtown\n",
       "65539  33.763927 -84.396356         Downtown\n",
       "65540  33.768814 -84.366527  Old Fourth Ward\n",
       "65541  33.785508 -84.383434          Midtown\n",
       "65542  33.762930 -84.388290         Downtown\n",
       "\n",
       "[65543 rows x 3 columns]"
      ]
     },
     "execution_count": 85,
     "metadata": {},
     "output_type": "execute_result"
    }
   ],
   "source": [
    "df_5hoods = pd.concat([df_buckhead,df_other_hoods], ignore_index=True, sort=False)\n",
    "df_5hoods"
   ]
  },
  {
   "cell_type": "code",
   "execution_count": null,
   "id": "packed-craps",
   "metadata": {},
   "outputs": [],
   "source": []
  },
  {
   "cell_type": "code",
   "execution_count": null,
   "id": "unnecessary-joint",
   "metadata": {},
   "outputs": [],
   "source": []
  }
 ],
 "metadata": {
  "kernelspec": {
   "display_name": "Python 3",
   "language": "python",
   "name": "python3"
  },
  "language_info": {
   "codemirror_mode": {
    "name": "ipython",
    "version": 3
   },
   "file_extension": ".py",
   "mimetype": "text/x-python",
   "name": "python",
   "nbconvert_exporter": "python",
   "pygments_lexer": "ipython3",
   "version": "3.8.7"
  }
 },
 "nbformat": 4,
 "nbformat_minor": 5
}
