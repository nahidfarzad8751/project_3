{
 "cells": [
  {
   "cell_type": "code",
   "execution_count": 1,
   "metadata": {
    "scrolled": true
   },
   "outputs": [
    {
     "name": "stdout",
     "output_type": "stream",
     "text": [
      "3.8.3\n"
     ]
    }
   ],
   "source": [
    "from platform import python_version\n",
    "print(python_version())"
   ]
  },
  {
   "cell_type": "code",
   "execution_count": 51,
   "metadata": {},
   "outputs": [],
   "source": [
    "#https://crime-data-explorer.app.cloud.gov/explorer/state/georgia/crime"
   ]
  },
  {
   "cell_type": "code",
   "execution_count": 2,
   "metadata": {},
   "outputs": [],
   "source": [
    "import pandas as pd\n",
    "import numpy as np, sys, time, pdb, matplotlib.pyplot as plt\n",
    "from pymongo import MongoClient"
   ]
  },
  {
   "cell_type": "code",
   "execution_count": 3,
   "metadata": {},
   "outputs": [],
   "source": [
    "pd.set_option('display.max_rows', 100)# None"
   ]
  },
  {
   "cell_type": "code",
   "execution_count": 4,
   "metadata": {},
   "outputs": [],
   "source": [
    "data_2020 = pd.read_csv('./flask/static/data/COBRA-2020.csv')\n",
    "data_2021 = pd.read_csv('./flask/static/data/COBRA-2021.csv')\n",
    "data_2009_2019 = pd.read_csv('./flask/static/data/COBRA-2009-2019.csv', low_memory=False)"
   ]
  },
  {
   "cell_type": "code",
   "execution_count": 5,
   "metadata": {},
   "outputs": [],
   "source": [
    "data_2020_list = data_2020.columns.values.tolist()\n",
    "data_2021_list = data_2021.columns.values.tolist()\n",
    "data_2009_2019_list = data_2009_2019.columns.values.tolist()"
   ]
  },
  {
   "cell_type": "code",
   "execution_count": 6,
   "metadata": {
    "scrolled": true
   },
   "outputs": [
    {
     "name": "stdout",
     "output_type": "stream",
     "text": [
      "20\n"
     ]
    },
    {
     "data": {
      "text/html": [
       "<div>\n",
       "<style scoped>\n",
       "    .dataframe tbody tr th:only-of-type {\n",
       "        vertical-align: middle;\n",
       "    }\n",
       "\n",
       "    .dataframe tbody tr th {\n",
       "        vertical-align: top;\n",
       "    }\n",
       "\n",
       "    .dataframe thead th {\n",
       "        text-align: right;\n",
       "    }\n",
       "</style>\n",
       "<table border=\"1\" class=\"dataframe\">\n",
       "  <thead>\n",
       "    <tr style=\"text-align: right;\">\n",
       "      <th></th>\n",
       "      <th>offense_id</th>\n",
       "      <th>rpt_date</th>\n",
       "      <th>occur_date</th>\n",
       "      <th>occur_time</th>\n",
       "      <th>poss_date</th>\n",
       "      <th>poss_time</th>\n",
       "      <th>beat</th>\n",
       "      <th>apt_office_prefix</th>\n",
       "      <th>apt_office_num</th>\n",
       "      <th>location</th>\n",
       "      <th>MinOfucr</th>\n",
       "      <th>dispo_code</th>\n",
       "      <th>Shift</th>\n",
       "      <th>loc_type</th>\n",
       "      <th>UC2_Literal</th>\n",
       "      <th>ibr_code</th>\n",
       "      <th>neighborhood</th>\n",
       "      <th>npu</th>\n",
       "      <th>long</th>\n",
       "      <th>lat</th>\n",
       "    </tr>\n",
       "  </thead>\n",
       "  <tbody>\n",
       "    <tr>\n",
       "      <th>0</th>\n",
       "      <td>203341346</td>\n",
       "      <td>12/31/2020</td>\n",
       "      <td>11/29/2020</td>\n",
       "      <td>19:21</td>\n",
       "      <td>11/29/2020</td>\n",
       "      <td>23:50</td>\n",
       "      <td>405</td>\n",
       "      <td>NaN</td>\n",
       "      <td>NaN</td>\n",
       "      <td>3050 M.L.K. JR DR SW</td>\n",
       "      <td>NaN</td>\n",
       "      <td>NaN</td>\n",
       "      <td>NaN</td>\n",
       "      <td>NaN</td>\n",
       "      <td>AGG ASSAULT</td>\n",
       "      <td>13A</td>\n",
       "      <td>Harland Terrace</td>\n",
       "      <td>I</td>\n",
       "      <td>-84.486163</td>\n",
       "      <td>33.75106</td>\n",
       "    </tr>\n",
       "  </tbody>\n",
       "</table>\n",
       "</div>"
      ],
      "text/plain": [
       "   offense_id    rpt_date  occur_date occur_time   poss_date poss_time beat  \\\n",
       "0   203341346  12/31/2020  11/29/2020      19:21  11/29/2020     23:50  405   \n",
       "\n",
       "   apt_office_prefix  apt_office_num              location  MinOfucr  \\\n",
       "0                NaN             NaN  3050 M.L.K. JR DR SW       NaN   \n",
       "\n",
       "   dispo_code  Shift  loc_type  UC2_Literal ibr_code     neighborhood npu  \\\n",
       "0         NaN    NaN       NaN  AGG ASSAULT      13A  Harland Terrace   I   \n",
       "\n",
       "        long       lat  \n",
       "0 -84.486163  33.75106  "
      ]
     },
     "execution_count": 6,
     "metadata": {},
     "output_type": "execute_result"
    }
   ],
   "source": [
    "print(len(data_2020_list))\n",
    "data_2020.head(1)"
   ]
  },
  {
   "cell_type": "code",
   "execution_count": 7,
   "metadata": {},
   "outputs": [
    {
     "name": "stdout",
     "output_type": "stream",
     "text": [
      "19\n"
     ]
    },
    {
     "data": {
      "text/html": [
       "<div>\n",
       "<style scoped>\n",
       "    .dataframe tbody tr th:only-of-type {\n",
       "        vertical-align: middle;\n",
       "    }\n",
       "\n",
       "    .dataframe tbody tr th {\n",
       "        vertical-align: top;\n",
       "    }\n",
       "\n",
       "    .dataframe thead th {\n",
       "        text-align: right;\n",
       "    }\n",
       "</style>\n",
       "<table border=\"1\" class=\"dataframe\">\n",
       "  <thead>\n",
       "    <tr style=\"text-align: right;\">\n",
       "      <th></th>\n",
       "      <th>Report Number</th>\n",
       "      <th>Report Date</th>\n",
       "      <th>Occur Date</th>\n",
       "      <th>Occur Time</th>\n",
       "      <th>Possible Date</th>\n",
       "      <th>Possible Time</th>\n",
       "      <th>Beat</th>\n",
       "      <th>Apartment Office Prefix</th>\n",
       "      <th>Apartment Number</th>\n",
       "      <th>Location</th>\n",
       "      <th>Shift Occurence</th>\n",
       "      <th>Location Type</th>\n",
       "      <th>UCR Literal</th>\n",
       "      <th>UCR #</th>\n",
       "      <th>IBR Code</th>\n",
       "      <th>Neighborhood</th>\n",
       "      <th>NPU</th>\n",
       "      <th>Latitude</th>\n",
       "      <th>Longitude</th>\n",
       "    </tr>\n",
       "  </thead>\n",
       "  <tbody>\n",
       "    <tr>\n",
       "      <th>342904</th>\n",
       "      <td>193651605</td>\n",
       "      <td>2019-12-31</td>\n",
       "      <td>2019-12-31</td>\n",
       "      <td>1615</td>\n",
       "      <td>2019-12-31</td>\n",
       "      <td>1745.0</td>\n",
       "      <td>507.0</td>\n",
       "      <td>NaN</td>\n",
       "      <td>NaN</td>\n",
       "      <td>180 WALKER ST SW</td>\n",
       "      <td>Evening Watch</td>\n",
       "      <td>18</td>\n",
       "      <td>LARCENY-FROM VEHICLE</td>\n",
       "      <td>640</td>\n",
       "      <td>2305</td>\n",
       "      <td>Castleberry Hill</td>\n",
       "      <td>M</td>\n",
       "      <td>33.74964</td>\n",
       "      <td>-84.40132</td>\n",
       "    </tr>\n",
       "    <tr>\n",
       "      <th>342905</th>\n",
       "      <td>193651845</td>\n",
       "      <td>2019-12-31</td>\n",
       "      <td>2019-12-31</td>\n",
       "      <td>1855</td>\n",
       "      <td>2019-12-31</td>\n",
       "      <td>1915.0</td>\n",
       "      <td>602.0</td>\n",
       "      <td>NaN</td>\n",
       "      <td>NaN</td>\n",
       "      <td>99 KROG ST NE</td>\n",
       "      <td>Morning Watch</td>\n",
       "      <td>18</td>\n",
       "      <td>LARCENY-FROM VEHICLE</td>\n",
       "      <td>640</td>\n",
       "      <td>2305</td>\n",
       "      <td>Inman Park</td>\n",
       "      <td>N</td>\n",
       "      <td>33.75667</td>\n",
       "      <td>-84.36390</td>\n",
       "    </tr>\n",
       "    <tr>\n",
       "      <th>342906</th>\n",
       "      <td>193652247</td>\n",
       "      <td>2019-12-31</td>\n",
       "      <td>2019-12-31</td>\n",
       "      <td>2130</td>\n",
       "      <td>2019-12-31</td>\n",
       "      <td>2132.0</td>\n",
       "      <td>503.0</td>\n",
       "      <td>NaN</td>\n",
       "      <td>NaN</td>\n",
       "      <td>992 PEACHTREE ST NE</td>\n",
       "      <td>Evening Watch</td>\n",
       "      <td>13</td>\n",
       "      <td>LARCENY-FROM VEHICLE</td>\n",
       "      <td>640</td>\n",
       "      <td>2305</td>\n",
       "      <td>Midtown</td>\n",
       "      <td>E</td>\n",
       "      <td>33.78192</td>\n",
       "      <td>-84.38410</td>\n",
       "    </tr>\n",
       "    <tr>\n",
       "      <th>342907</th>\n",
       "      <td>193652287</td>\n",
       "      <td>2019-12-31</td>\n",
       "      <td>2019-12-31</td>\n",
       "      <td>2000</td>\n",
       "      <td>2019-12-31</td>\n",
       "      <td>2101.0</td>\n",
       "      <td>501.0</td>\n",
       "      <td>NaN</td>\n",
       "      <td>NaN</td>\n",
       "      <td>1371 MARKET ST NW</td>\n",
       "      <td>Evening Watch</td>\n",
       "      <td>18</td>\n",
       "      <td>LARCENY-FROM VEHICLE</td>\n",
       "      <td>640</td>\n",
       "      <td>2305</td>\n",
       "      <td>Atlantic Station</td>\n",
       "      <td>E</td>\n",
       "      <td>33.79210</td>\n",
       "      <td>-84.39466</td>\n",
       "    </tr>\n",
       "    <tr>\n",
       "      <th>342908</th>\n",
       "      <td>193642145</td>\n",
       "      <td>2019-12-31</td>\n",
       "      <td>2019-12-30</td>\n",
       "      <td>2001</td>\n",
       "      <td>2019-12-30</td>\n",
       "      <td>2157.0</td>\n",
       "      <td>501.0</td>\n",
       "      <td>NaN</td>\n",
       "      <td>NaN</td>\n",
       "      <td>1085 HOWELL MILL RD NW</td>\n",
       "      <td>Evening Watch</td>\n",
       "      <td>18</td>\n",
       "      <td>LARCENY-FROM VEHICLE</td>\n",
       "      <td>640</td>\n",
       "      <td>2305</td>\n",
       "      <td>Home Park</td>\n",
       "      <td>E</td>\n",
       "      <td>33.78455</td>\n",
       "      <td>-84.41142</td>\n",
       "    </tr>\n",
       "    <tr>\n",
       "      <th>342909</th>\n",
       "      <td>193652089</td>\n",
       "      <td>2019-12-31</td>\n",
       "      <td>2019-12-31</td>\n",
       "      <td>2030</td>\n",
       "      <td>2019-12-31</td>\n",
       "      <td>2034.0</td>\n",
       "      <td>105.0</td>\n",
       "      <td>NaN</td>\n",
       "      <td>NaN</td>\n",
       "      <td>1385 SHARON ST NW</td>\n",
       "      <td>Morning Watch</td>\n",
       "      <td>20</td>\n",
       "      <td>AGG ASSAULT</td>\n",
       "      <td>420</td>\n",
       "      <td>1315K</td>\n",
       "      <td>Hunter Hills</td>\n",
       "      <td>K</td>\n",
       "      <td>33.75486</td>\n",
       "      <td>-84.43287</td>\n",
       "    </tr>\n",
       "    <tr>\n",
       "      <th>342910</th>\n",
       "      <td>193650336</td>\n",
       "      <td>2019-12-31</td>\n",
       "      <td>2019-12-31</td>\n",
       "      <td>0432</td>\n",
       "      <td>2019-12-31</td>\n",
       "      <td>432.0</td>\n",
       "      <td>206.0</td>\n",
       "      <td>NaN</td>\n",
       "      <td>NaN</td>\n",
       "      <td>262 PHARR RD NE</td>\n",
       "      <td>Morning Watch</td>\n",
       "      <td>NaN</td>\n",
       "      <td>AGG ASSAULT</td>\n",
       "      <td>410</td>\n",
       "      <td>1314</td>\n",
       "      <td>Buckhead Village</td>\n",
       "      <td>B</td>\n",
       "      <td>33.83732</td>\n",
       "      <td>-84.37860</td>\n",
       "    </tr>\n",
       "    <tr>\n",
       "      <th>342911</th>\n",
       "      <td>193650603</td>\n",
       "      <td>2019-12-31</td>\n",
       "      <td>2019-12-31</td>\n",
       "      <td>0920</td>\n",
       "      <td>2019-12-31</td>\n",
       "      <td>940.0</td>\n",
       "      <td>404.0</td>\n",
       "      <td>NaN</td>\n",
       "      <td>NaN</td>\n",
       "      <td>689 CASCADE AVE SW</td>\n",
       "      <td>Day Watch</td>\n",
       "      <td>18</td>\n",
       "      <td>AGG ASSAULT</td>\n",
       "      <td>410</td>\n",
       "      <td>1314</td>\n",
       "      <td>Westview</td>\n",
       "      <td>T</td>\n",
       "      <td>33.73636</td>\n",
       "      <td>-84.43680</td>\n",
       "    </tr>\n",
       "    <tr>\n",
       "      <th>342912</th>\n",
       "      <td>193651760</td>\n",
       "      <td>2019-12-31</td>\n",
       "      <td>2019-12-31</td>\n",
       "      <td>1853</td>\n",
       "      <td>2019-12-31</td>\n",
       "      <td>1900.0</td>\n",
       "      <td>404.0</td>\n",
       "      <td>NaN</td>\n",
       "      <td>NaN</td>\n",
       "      <td>763 CASCADE AVE SW</td>\n",
       "      <td>Evening Watch</td>\n",
       "      <td>26</td>\n",
       "      <td>AGG ASSAULT</td>\n",
       "      <td>410</td>\n",
       "      <td>1314</td>\n",
       "      <td>Westview</td>\n",
       "      <td>T</td>\n",
       "      <td>33.73483</td>\n",
       "      <td>-84.43750</td>\n",
       "    </tr>\n",
       "    <tr>\n",
       "      <th>342913</th>\n",
       "      <td>193652591</td>\n",
       "      <td>2019-12-31</td>\n",
       "      <td>2019-12-31</td>\n",
       "      <td>2045</td>\n",
       "      <td>2019-12-31</td>\n",
       "      <td>2055.0</td>\n",
       "      <td>406.0</td>\n",
       "      <td>NaN</td>\n",
       "      <td>NaN</td>\n",
       "      <td>237 PEYTON PL SW</td>\n",
       "      <td>Evening Watch</td>\n",
       "      <td>20</td>\n",
       "      <td>AGG ASSAULT</td>\n",
       "      <td>410</td>\n",
       "      <td>1314</td>\n",
       "      <td>Cascade Avenue/Road</td>\n",
       "      <td>S</td>\n",
       "      <td>33.72518</td>\n",
       "      <td>-84.45013</td>\n",
       "    </tr>\n",
       "  </tbody>\n",
       "</table>\n",
       "</div>"
      ],
      "text/plain": [
       "        Report Number Report Date  Occur Date Occur Time Possible Date  \\\n",
       "342904      193651605  2019-12-31  2019-12-31       1615    2019-12-31   \n",
       "342905      193651845  2019-12-31  2019-12-31       1855    2019-12-31   \n",
       "342906      193652247  2019-12-31  2019-12-31       2130    2019-12-31   \n",
       "342907      193652287  2019-12-31  2019-12-31       2000    2019-12-31   \n",
       "342908      193642145  2019-12-31  2019-12-30       2001    2019-12-30   \n",
       "342909      193652089  2019-12-31  2019-12-31       2030    2019-12-31   \n",
       "342910      193650336  2019-12-31  2019-12-31       0432    2019-12-31   \n",
       "342911      193650603  2019-12-31  2019-12-31       0920    2019-12-31   \n",
       "342912      193651760  2019-12-31  2019-12-31       1853    2019-12-31   \n",
       "342913      193652591  2019-12-31  2019-12-31       2045    2019-12-31   \n",
       "\n",
       "        Possible Time   Beat Apartment Office Prefix Apartment Number  \\\n",
       "342904         1745.0  507.0                     NaN              NaN   \n",
       "342905         1915.0  602.0                     NaN              NaN   \n",
       "342906         2132.0  503.0                     NaN              NaN   \n",
       "342907         2101.0  501.0                     NaN              NaN   \n",
       "342908         2157.0  501.0                     NaN              NaN   \n",
       "342909         2034.0  105.0                     NaN              NaN   \n",
       "342910          432.0  206.0                     NaN              NaN   \n",
       "342911          940.0  404.0                     NaN              NaN   \n",
       "342912         1900.0  404.0                     NaN              NaN   \n",
       "342913         2055.0  406.0                     NaN              NaN   \n",
       "\n",
       "                      Location Shift Occurence Location Type  \\\n",
       "342904        180 WALKER ST SW   Evening Watch            18   \n",
       "342905          99 KROG ST NE    Morning Watch            18   \n",
       "342906     992 PEACHTREE ST NE   Evening Watch            13   \n",
       "342907       1371 MARKET ST NW   Evening Watch            18   \n",
       "342908  1085 HOWELL MILL RD NW   Evening Watch            18   \n",
       "342909       1385 SHARON ST NW   Morning Watch            20   \n",
       "342910         262 PHARR RD NE   Morning Watch           NaN   \n",
       "342911      689 CASCADE AVE SW       Day Watch            18   \n",
       "342912      763 CASCADE AVE SW   Evening Watch            26   \n",
       "342913        237 PEYTON PL SW   Evening Watch            20   \n",
       "\n",
       "                 UCR Literal  UCR # IBR Code         Neighborhood NPU  \\\n",
       "342904  LARCENY-FROM VEHICLE    640     2305     Castleberry Hill   M   \n",
       "342905  LARCENY-FROM VEHICLE    640     2305           Inman Park   N   \n",
       "342906  LARCENY-FROM VEHICLE    640     2305              Midtown   E   \n",
       "342907  LARCENY-FROM VEHICLE    640     2305     Atlantic Station   E   \n",
       "342908  LARCENY-FROM VEHICLE    640     2305            Home Park   E   \n",
       "342909           AGG ASSAULT    420    1315K         Hunter Hills   K   \n",
       "342910           AGG ASSAULT    410     1314     Buckhead Village   B   \n",
       "342911           AGG ASSAULT    410     1314             Westview   T   \n",
       "342912           AGG ASSAULT    410     1314             Westview   T   \n",
       "342913           AGG ASSAULT    410     1314  Cascade Avenue/Road   S   \n",
       "\n",
       "        Latitude  Longitude  \n",
       "342904  33.74964  -84.40132  \n",
       "342905  33.75667  -84.36390  \n",
       "342906  33.78192  -84.38410  \n",
       "342907  33.79210  -84.39466  \n",
       "342908  33.78455  -84.41142  \n",
       "342909  33.75486  -84.43287  \n",
       "342910  33.83732  -84.37860  \n",
       "342911  33.73636  -84.43680  \n",
       "342912  33.73483  -84.43750  \n",
       "342913  33.72518  -84.45013  "
      ]
     },
     "execution_count": 7,
     "metadata": {},
     "output_type": "execute_result"
    }
   ],
   "source": [
    "print(len(data_2009_2019_list))\n",
    "data_2009_2019.tail(10)"
   ]
  },
  {
   "cell_type": "code",
   "execution_count": 8,
   "metadata": {
    "scrolled": true
   },
   "outputs": [
    {
     "data": {
      "text/html": [
       "<div>\n",
       "<style scoped>\n",
       "    .dataframe tbody tr th:only-of-type {\n",
       "        vertical-align: middle;\n",
       "    }\n",
       "\n",
       "    .dataframe tbody tr th {\n",
       "        vertical-align: top;\n",
       "    }\n",
       "\n",
       "    .dataframe thead th {\n",
       "        text-align: right;\n",
       "    }\n",
       "</style>\n",
       "<table border=\"1\" class=\"dataframe\">\n",
       "  <thead>\n",
       "    <tr style=\"text-align: right;\">\n",
       "      <th></th>\n",
       "      <th>Report Number</th>\n",
       "      <th>Report Date</th>\n",
       "      <th>Occur Date</th>\n",
       "      <th>Occur Time</th>\n",
       "      <th>Possible Date</th>\n",
       "      <th>Possible Time</th>\n",
       "      <th>Beat</th>\n",
       "      <th>Apartment Office Prefix</th>\n",
       "      <th>Apartment Number</th>\n",
       "      <th>Location</th>\n",
       "      <th>Shift Occurence</th>\n",
       "      <th>Location Type</th>\n",
       "      <th>UCR Literal</th>\n",
       "      <th>IBR Code</th>\n",
       "      <th>Neighborhood</th>\n",
       "      <th>NPU</th>\n",
       "      <th>Longitude</th>\n",
       "      <th>Latitude</th>\n",
       "    </tr>\n",
       "  </thead>\n",
       "  <tbody>\n",
       "    <tr>\n",
       "      <th>0</th>\n",
       "      <td>203341346</td>\n",
       "      <td>12/31/2020</td>\n",
       "      <td>11/29/2020</td>\n",
       "      <td>19:21</td>\n",
       "      <td>11/29/2020</td>\n",
       "      <td>23:50</td>\n",
       "      <td>405</td>\n",
       "      <td>NaN</td>\n",
       "      <td>NaN</td>\n",
       "      <td>3050 M.L.K. JR DR SW</td>\n",
       "      <td>NaN</td>\n",
       "      <td>NaN</td>\n",
       "      <td>AGG ASSAULT</td>\n",
       "      <td>13A</td>\n",
       "      <td>Harland Terrace</td>\n",
       "      <td>I</td>\n",
       "      <td>-84.486163</td>\n",
       "      <td>33.75106</td>\n",
       "    </tr>\n",
       "  </tbody>\n",
       "</table>\n",
       "</div>"
      ],
      "text/plain": [
       "   Report Number Report Date  Occur Date Occur Time Possible Date  \\\n",
       "0      203341346  12/31/2020  11/29/2020      19:21    11/29/2020   \n",
       "\n",
       "  Possible Time Beat  Apartment Office Prefix  Apartment Number  \\\n",
       "0         23:50  405                      NaN               NaN   \n",
       "\n",
       "               Location  Shift Occurence  Location Type  UCR Literal IBR Code  \\\n",
       "0  3050 M.L.K. JR DR SW              NaN            NaN  AGG ASSAULT      13A   \n",
       "\n",
       "      Neighborhood NPU  Longitude  Latitude  \n",
       "0  Harland Terrace   I -84.486163  33.75106  "
      ]
     },
     "execution_count": 8,
     "metadata": {},
     "output_type": "execute_result"
    }
   ],
   "source": [
    "#Since the 2009-2019 dataset is the largest, everything will try and have the same columns as that dataset\n",
    "data_2020.rename(columns = {\n",
    " 'offense_id' : 'Report Number',\n",
    " 'rpt_date' : 'Report Date',\n",
    " 'occur_date' : 'Occur Date',\n",
    " 'occur_time' : 'Occur Time',\n",
    " 'poss_date' : 'Possible Date',\n",
    " 'poss_time' : 'Possible Time',\n",
    " 'beat' : 'Beat',\n",
    " 'apt_office_prefix' : 'Apartment Office Prefix',\n",
    " 'apt_office_num' : 'Apartment Number',\n",
    " 'location' : 'Location',\n",
    " #'MinOfucr' : ,\n",
    " #'dispo_code' : ,\n",
    " 'Shift' : 'Shift Occurence',\n",
    " 'loc_type' : 'Location Type',\n",
    " 'UC2_Literal': 'UCR Literal',\n",
    " 'ibr_code' : 'IBR Code',\n",
    " 'neighborhood' : 'Neighborhood',\n",
    " 'npu' : 'NPU',\n",
    " 'long' : 'Longitude',\n",
    " 'lat' : 'Latitude'\n",
    "}, inplace = True)\n",
    "#Drop columns that do not seem to show up in 2009-2019 dataset\n",
    "data_2020 = data_2020.drop(columns=['MinOfucr','dispo_code'])\n",
    "data_2020.head(1)"
   ]
  },
  {
   "cell_type": "code",
   "execution_count": 9,
   "metadata": {},
   "outputs": [
    {
     "name": "stdout",
     "output_type": "stream",
     "text": [
      "['UCR #']\n"
     ]
    }
   ],
   "source": [
    "list1 = data_2009_2019.columns.values.tolist()\n",
    "list2 = data_2020.columns.values.tolist()\n",
    "\n",
    "list_difference = [item for item in list1 if item not in list2]\n",
    "print(list_difference)"
   ]
  },
  {
   "cell_type": "code",
   "execution_count": 10,
   "metadata": {},
   "outputs": [],
   "source": [
    "#It can be seen that the 'UCR #' shows up only in the 2009-2019 data and realistically serves no purpose because its a code only a cop would udnerstand\n",
    "#So it should be droped to simplify\n",
    "data_2009_2019 = data_2009_2019.drop(columns=['UCR #'])"
   ]
  },
  {
   "cell_type": "code",
   "execution_count": null,
   "metadata": {},
   "outputs": [],
   "source": []
  },
  {
   "cell_type": "code",
   "execution_count": 11,
   "metadata": {},
   "outputs": [
    {
     "name": "stdout",
     "output_type": "stream",
     "text": [
      "[]\n"
     ]
    }
   ],
   "source": [
    "list1 = data_2009_2019.columns.values.tolist()\n",
    "list2 = data_2020.columns.values.tolist()\n",
    "\n",
    "list_difference = [item for item in list1 if item not in list2]\n",
    "print(list_difference)\n",
    "#There should now be no differences as at all"
   ]
  },
  {
   "cell_type": "code",
   "execution_count": null,
   "metadata": {
    "scrolled": true
   },
   "outputs": [],
   "source": []
  },
  {
   "cell_type": "code",
   "execution_count": 62,
   "metadata": {},
   "outputs": [],
   "source": [
    "#data[['Report Date','Occur Date','Possible Date']] = data[['Report Date','Occur Date','Possible Date']].apply(pd.to_datetime)"
   ]
  },
  {
   "cell_type": "code",
   "execution_count": 12,
   "metadata": {},
   "outputs": [],
   "source": [
    "#Concat the dataframes together\n",
    "data = pd.concat([data_2009_2019, data_2020])"
   ]
  },
  {
   "cell_type": "code",
   "execution_count": 13,
   "metadata": {},
   "outputs": [
    {
     "data": {
      "text/plain": [
       "240079    1916-01-07\n",
       "243237    1916-03-29\n",
       "243631    1916-04-02\n",
       "247606    1916-05-15\n",
       "248620    1916-05-30\n",
       "             ...    \n",
       "342880    2019-12-31\n",
       "342881    2019-12-31\n",
       "342882    2019-12-31\n",
       "342860    2019-12-31\n",
       "342913    2019-12-31\n",
       "Name: Occur Date, Length: 342914, dtype: object"
      ]
     },
     "execution_count": 13,
     "metadata": {},
     "output_type": "execute_result"
    }
   ],
   "source": [
    "data_2009_2019['Occur Date'].sort_values()"
   ]
  },
  {
   "cell_type": "code",
   "execution_count": 14,
   "metadata": {},
   "outputs": [],
   "source": [
    "data['Report Date'] = pd.to_datetime(data['Report Date'])\n",
    "#data['Occur Date'] = pd.to_datetime(data['Occur Date'])"
   ]
  },
  {
   "cell_type": "code",
   "execution_count": 66,
   "metadata": {},
   "outputs": [],
   "source": [
    "#data = data.astype({'Report Date':'datetime64','Occur Date':'datetime64','Possible Date':'datetime64'},errors = 'raise')"
   ]
  },
  {
   "cell_type": "code",
   "execution_count": 15,
   "metadata": {},
   "outputs": [
    {
     "data": {
      "text/plain": [
       "Report Number                       int64\n",
       "Report Date                datetime64[ns]\n",
       "Occur Date                         object\n",
       "Occur Time                         object\n",
       "Possible Date                      object\n",
       "Possible Time                      object\n",
       "Beat                               object\n",
       "Apartment Office Prefix            object\n",
       "Apartment Number                   object\n",
       "Location                           object\n",
       "Shift Occurence                    object\n",
       "Location Type                      object\n",
       "UCR Literal                        object\n",
       "IBR Code                           object\n",
       "Neighborhood                       object\n",
       "NPU                                object\n",
       "Latitude                          float64\n",
       "Longitude                         float64\n",
       "dtype: object"
      ]
     },
     "execution_count": 15,
     "metadata": {},
     "output_type": "execute_result"
    }
   ],
   "source": [
    "data.dtypes"
   ]
  },
  {
   "cell_type": "code",
   "execution_count": 16,
   "metadata": {},
   "outputs": [],
   "source": [
    "data.to_csv('data.csv')"
   ]
  },
  {
   "cell_type": "code",
   "execution_count": 17,
   "metadata": {},
   "outputs": [],
   "source": [
    "df = data.head(100)\n",
    "df.reset_index(drop=True, inplace=True)\n",
    "df.to_json('data.json')"
   ]
  },
  {
   "cell_type": "code",
   "execution_count": null,
   "metadata": {},
   "outputs": [],
   "source": []
  },
  {
   "cell_type": "code",
   "execution_count": null,
   "metadata": {},
   "outputs": [],
   "source": []
  }
 ],
 "metadata": {
  "kernelspec": {
   "display_name": "Python 3",
   "language": "python",
   "name": "python3"
  },
  "language_info": {
   "codemirror_mode": {
    "name": "ipython",
    "version": 3
   },
   "file_extension": ".py",
   "mimetype": "text/x-python",
   "name": "python",
   "nbconvert_exporter": "python",
   "pygments_lexer": "ipython3",
   "version": "3.8.3"
  }
 },
 "nbformat": 4,
 "nbformat_minor": 5
}
